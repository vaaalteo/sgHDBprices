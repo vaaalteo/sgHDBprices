{
 "cells": [
  {
   "cell_type": "code",
   "execution_count": 1,
   "metadata": {},
   "outputs": [
    {
     "name": "stdout",
     "output_type": "stream",
     "text": [
      "***Demand for Rental and Owned Flats Since 1960s***\n",
      "There are 26 rows in this dataset\n",
      "\n",
      "There are 13 unique number of start years\n"
     ]
    }
   ],
   "source": [
    "import numpy as np\n",
    "\n",
    "title = \"Demand for Rental and Owned Flats Since 1960s\"\n",
    "titlelen = len(title)\n",
    "print(\"{:*^{titlelen}}\".format(title,titlelen=titlelen+6))\n",
    "\n",
    "\n",
    "#Read the csv file with the loadtxt() function\n",
    "fname = \"key-stats-since-1960-demand-for-rental-and-sold-flats\\demand-for-rental-and-sold-flats.csv\"\n",
    "data = np.loadtxt(fname, skiprows=1,dtype=[('start_year','i8'),('end_year','i8'),('flat_type','U25'),('demand_for_flats','i8')],delimiter=\",\")\n",
    "\n",
    "#Print out the number of rows in this dataset\n",
    "print(\"There are {} rows in this dataset\".format(len(data)))\n",
    "print()\n",
    "\n",
    "#Find the shape of each column\n",
    "#print(data['start_year'].shape)\n",
    "\n",
    "#Find the unique number of years in the data set\n",
    "uniq_start = set(data['start_year'])\n",
    "#print(str(uniq_start))\n",
    "print(\"There are \" + str(len(uniq_start))  +\" unique number of start years\")\n",
    "#uniq_end = set(data['end_year'])\n",
    "#print(str(len(uniq_end)))\n"
   ]
  },
  {
   "cell_type": "code",
   "execution_count": 2,
   "metadata": {},
   "outputs": [
    {
     "name": "stdout",
     "output_type": "stream",
     "text": [
      "1966 to 1970 has the highest demand for rental flats at 66005\n",
      "2016 to 2017 has the lowest demand for rental flats at 9089\n",
      "The mean number of demand for rental flats over the years is 33414\n",
      "The standard deviation is 17423\n"
     ]
    }
   ],
   "source": [
    "#Extract only the rows with \"Rental_flats\" in the \"Flat_type\" column\n",
    "keyword = 'rental_flats'\n",
    "column_to_search = data['flat_type']\n",
    "out = [i for i, v in enumerate(column_to_search) if keyword in v]\n",
    "data_rental = data[out]\n",
    "\n",
    "rdemand = data_rental['demand_for_flats']\n",
    "\n",
    "max_rental = rdemand.max() #finding the max demand for rental flats\n",
    "argmax_rental = rdemand.argmax() #finding the indices with the highest demand for rental flats\n",
    "startyear_max_rental = data_rental[argmax_rental]['start_year'] #finding the start year with the highest demand for rental flats\n",
    "endyear_max_rental = data_rental[argmax_rental]['end_year'] #finding the end year with the highest demand for rental flats\n",
    "\n",
    "min_rental = rdemand.min() #finding the min demand for rental flats\n",
    "argmin_rental = rdemand.argmin() #finding the indices with the lowest demand for rental flats\n",
    "startyear_min_rental = data_rental[argmin_rental]['start_year'] #finding the start year with the lowest demand for rental flats\n",
    "endyear_min_rental = data_rental[argmin_rental]['end_year'] #finding the end year with the lowest demand for rental flats\n",
    "\n",
    "mean_rental = int(np.mean(rdemand))\n",
    "std_rental = int(np.std(rdemand))\n",
    "\n",
    "print(str(startyear_max_rental)+' to '+ str(endyear_max_rental)+ ' has the highest demand for rental flats at ' + str(max_rental))\n",
    "print(str(startyear_min_rental)+' to '+ str(endyear_min_rental)+ ' has the lowest demand for rental flats at ' + str(min_rental))\n",
    "print(\"The mean number of demand for rental flats over the years is {}\".format(mean_rental))\n",
    "print(\"The standard deviation is {}\".format(std_rental))"
   ]
  },
  {
   "cell_type": "code",
   "execution_count": 3,
   "metadata": {},
   "outputs": [
    {
     "name": "stdout",
     "output_type": "stream",
     "text": [
      "1991 to 1995 has the highest demand for home ownership flats at 308454\n",
      "1960 to 1965 has the lowest demand for home ownership flats at 2967\n",
      "The mean number of demand for home ownership flats over the years is 116607\n",
      "The standard deviation is 80662\n"
     ]
    }
   ],
   "source": [
    "#Extract only the rows with \"Home_ownership_flats\" in the \"Flat_type\" column\n",
    "keyword = 'home_ownership_flats'\n",
    "column_to_search = data['flat_type']\n",
    "out = [i for i, v in enumerate(column_to_search) if keyword in v]\n",
    "data_ownership = data[out]\n",
    "\n",
    "odemand = data_ownership['demand_for_flats']\n",
    "\n",
    "max_ownership = odemand.max() #finding the max demand for home ownership flats\n",
    "argmax_ownership = odemand.argmax() #finding the indices with the highest demand for home ownership flats\n",
    "startyear_max_ownership = data_ownership[argmax_ownership]['start_year'] #finding the start year with the highest demand for home ownership flats\n",
    "endyear_max_ownership = data_ownership[argmax_ownership]['end_year'] #finding the end year with the highest demand for home ownership flats\n",
    "\n",
    "min_ownership = odemand.min() #finding the min demand for home ownership flats\n",
    "argmin_ownership = odemand.argmin() #finding the indices with the lowest demand for home ownership flats\n",
    "startyear_min_ownership = data_ownership[argmin_ownership]['start_year'] #finding the start year with the lowest demand for home ownership flats\n",
    "endyear_min_ownership = data_ownership[argmin_ownership]['end_year'] #finding the end year with the lowest demand for home ownership flats\n",
    "\n",
    "mean_ownership = int(np.mean(odemand))\n",
    "std_ownership = int(np.std(odemand))\n",
    "\n",
    "print(str(startyear_max_ownership)+' to '+ str(endyear_max_ownership)+ ' has the highest demand for home ownership flats at ' + str(max_ownership))\n",
    "print(str(startyear_min_ownership)+' to '+ str(endyear_min_ownership)+ ' has the lowest demand for home ownership flats at ' + str(min_ownership))\n",
    "print(\"The mean number of demand for home ownership flats over the years is {}\".format(mean_ownership))\n",
    "print(\"The standard deviation is {}\".format(std_ownership))"
   ]
  },
  {
   "cell_type": "code",
   "execution_count": 6,
   "metadata": {},
   "outputs": [
    {
     "data": {
      "image/png": "[encoded data removed]",
      "text/plain": [
       "<Figure size 432x288 with 1 Axes>"
      ]
     },
     "metadata": {
      "needs_background": "light"
     },
     "output_type": "display_data"
    }
   ],
   "source": [
    "import matplotlib.pyplot as plt\n",
    "\n",
    "x_rental = data_rental['start_year'] #extracting the year for the x axis\n",
    "y_rental = data_rental['demand_for_flats'] #extracting the demand for flat rental for y axis\n",
    "\n",
    "x_owned = data_ownership['start_year'] #extracting the year for the x axis\n",
    "y_owned = data_ownership['demand_for_flats'] #extracting the demand for own flats for y axis\n",
    "\n",
    "fig = plt.figure()\n",
    "ax1 = fig.add_subplot (111) \n",
    "\n",
    "plt.title(\"Demand of Rental and Owned Flats over the Years\")\n",
    "ax1.plot(x_rental,y_rental, c=\"b\", label=\"Rental Flats\")\n",
    "ax1.plot(x_owned,y_owned, c=\"r\", label=\"Owned Flats\")\n",
    "plt.ylabel('Demand for flats')\n",
    "plt.xlabel(\"Years\")\n",
    "plt.legend(loc='upper left')\n",
    "\n",
    "plt.show()"
   ]
  },
  {
   "cell_type": "code",
   "execution_count": null,
   "metadata": {},
   "outputs": [],
   "source": []
  }
 ],
 "metadata": {
  "kernelspec": {
   "display_name": "Python 3",
   "language": "python",
   "name": "python3"
  },
  "language_info": {
   "codemirror_mode": {
    "name": "ipython",
    "version": 3
   },
   "file_extension": ".py",
   "mimetype": "text/x-python",
   "name": "python",
   "nbconvert_exporter": "python",
   "pygments_lexer": "ipython3",
   "version": "3.8.3"
  }
 },
 "nbformat": 4,
 "nbformat_minor": 4
}
